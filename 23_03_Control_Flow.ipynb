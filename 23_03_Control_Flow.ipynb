{
 "cells": [
  {
   "cell_type": "markdown",
   "id": "3004b5c1-b3cc-4d62-9736-bc141ba74bde",
   "metadata": {},
   "source": [
    "# Control Flow  : \n",
    "* Condititional Statemnets\n",
    "* Loops"
   ]
  },
  {
   "cell_type": "code",
   "execution_count": 36,
   "id": "31b9ca4e-d3ce-4dc2-9039-54c36d1974b7",
   "metadata": {},
   "outputs": [],
   "source": [
    "s = 10"
   ]
  },
  {
   "cell_type": "code",
   "execution_count": 37,
   "id": "57753835-11c4-4ec4-bbf8-5d47663c5d73",
   "metadata": {},
   "outputs": [],
   "source": [
    "a = 15"
   ]
  },
  {
   "cell_type": "code",
   "execution_count": null,
   "id": "02d2b4ec-4f9d-4798-8fdd-df6c1803a66f",
   "metadata": {},
   "outputs": [],
   "source": [
    "#  Conditional Statemnets : \n",
    "if\n",
    "elif - else if -\n",
    "else\n",
    "\n",
    "Syntax: \n",
    "if (condition/expression):\n",
    "    logic\n",
    "    logic\n",
    "    print\n",
    "elif (condition):\n",
    "    logic\n",
    "    logic\n",
    "else:\n",
    "    logic\n",
    "    logic"
   ]
  },
  {
   "cell_type": "code",
   "execution_count": 47,
   "id": "f8645b4e-fab1-49a8-aa81-371f2f418248",
   "metadata": {},
   "outputs": [
    {
     "name": "stdin",
     "output_type": "stream",
     "text": [
      "Enter your age: 28\n"
     ]
    }
   ],
   "source": [
    "age = int(input(\"Enter your age:\"))"
   ]
  },
  {
   "cell_type": "code",
   "execution_count": 48,
   "id": "25aa228d-9988-49b7-b41c-b78f188c9d3c",
   "metadata": {},
   "outputs": [
    {
     "data": {
      "text/plain": [
       "28"
      ]
     },
     "execution_count": 48,
     "metadata": {},
     "output_type": "execute_result"
    }
   ],
   "source": [
    "age"
   ]
  },
  {
   "cell_type": "code",
   "execution_count": 26,
   "id": "872a3d62-134a-4f55-a276-739f03895ab5",
   "metadata": {},
   "outputs": [
    {
     "data": {
      "text/plain": [
       "int"
      ]
     },
     "execution_count": 26,
     "metadata": {},
     "output_type": "execute_result"
    }
   ],
   "source": [
    "type(age)"
   ]
  },
  {
   "cell_type": "code",
   "execution_count": 49,
   "id": "1d5751ba-4f18-4ef3-ad4a-c66fe9f54a9f",
   "metadata": {},
   "outputs": [
    {
     "name": "stdout",
     "output_type": "stream",
     "text": [
      "You are eligible for voting\n"
     ]
    }
   ],
   "source": [
    "if age>=18:\n",
    "    print(\"You are eligible for voting\")\n",
    "else:\n",
    "    print(\"You are kid\")"
   ]
  },
  {
   "cell_type": "code",
   "execution_count": 33,
   "id": "02cbb558-24b4-45ca-bc03-c3926d9c4332",
   "metadata": {},
   "outputs": [
    {
     "name": "stdout",
     "output_type": "stream",
     "text": [
      "You are kid\n",
      "You are in school\n"
     ]
    }
   ],
   "source": [
    "if age>=18:\n",
    "    print(\"You are a voting citizen\")\n",
    "    print(\"You are eligible for voting\")\n",
    "    print(\"Voting is your right\")\n",
    "else:\n",
    "    print(\"You are kid\")\n",
    "    print(\"You are in school\")"
   ]
  },
  {
   "cell_type": "code",
   "execution_count": null,
   "id": "10b2847a-8398-4cc7-89ac-af025fa19a1a",
   "metadata": {},
   "outputs": [],
   "source": []
  },
  {
   "cell_type": "code",
   "execution_count": 50,
   "id": "41ef9315-5283-4a2b-8254-dd4bf14ac194",
   "metadata": {},
   "outputs": [
    {
     "ename": "IndentationError",
     "evalue": "expected an indented block after 'if' statement on line 1 (157852872.py, line 2)",
     "output_type": "error",
     "traceback": [
      "\u001b[1;36m  Cell \u001b[1;32mIn[50], line 2\u001b[1;36m\u001b[0m\n\u001b[1;33m    print(\"You are eligible for voting\")\u001b[0m\n\u001b[1;37m    ^\u001b[0m\n\u001b[1;31mIndentationError\u001b[0m\u001b[1;31m:\u001b[0m expected an indented block after 'if' statement on line 1\n"
     ]
    }
   ],
   "source": [
    "if age>=18:\n",
    "print(\"You are eligible for voting\")\n",
    " print(\"Voting is your right\")\n",
    "else:\n",
    " print(\"You are kid\")\n",
    " print(\"You are in school\")"
   ]
  },
  {
   "cell_type": "code",
   "execution_count": 52,
   "id": "7c0357c7-7f75-4928-b000-554ac4e1cb6d",
   "metadata": {},
   "outputs": [
    {
     "name": "stdout",
     "output_type": "stream",
     "text": [
      "You are eligible for voting..\n",
      "Voting is your right\n"
     ]
    }
   ],
   "source": [
    "if age>=18:\n",
    "                       print(\"You are eligible for voting..\")\n",
    "                       print(\"Voting is your right\")\n",
    "else:\n",
    "                 print(\"You are kid\")\n",
    "                 print(\"Grow up first\")"
   ]
  },
  {
   "cell_type": "code",
   "execution_count": 54,
   "id": "d3253221-d1a5-48f6-aa32-9f9513ca7fed",
   "metadata": {},
   "outputs": [
    {
     "name": "stdin",
     "output_type": "stream",
     "text": [
      "Enter signal =  red\n"
     ]
    }
   ],
   "source": [
    "signal = input(\"Enter signal = \")"
   ]
  },
  {
   "cell_type": "code",
   "execution_count": 43,
   "id": "13076091-69be-431d-a410-e64cd7655833",
   "metadata": {},
   "outputs": [
    {
     "name": "stdout",
     "output_type": "stream",
     "text": [
      "Move on\n"
     ]
    }
   ],
   "source": [
    "if signal == \"red\":\n",
    "    print(\"Pls stop\")\n",
    "else:\n",
    "    print(\"Move on\")"
   ]
  },
  {
   "cell_type": "code",
   "execution_count": null,
   "id": "d73f9fff-ede4-4dd9-98e8-14b8a49cff82",
   "metadata": {},
   "outputs": [],
   "source": []
  },
  {
   "cell_type": "code",
   "execution_count": null,
   "id": "933a1f3f-c3fc-4c03-9883-873bc4384663",
   "metadata": {},
   "outputs": [],
   "source": []
  },
  {
   "cell_type": "code",
   "execution_count": 57,
   "id": "18ecb81b-e591-46a5-ac7e-27b1c8dd7fcf",
   "metadata": {},
   "outputs": [
    {
     "name": "stdin",
     "output_type": "stream",
     "text": [
      "enter any number: -5\n"
     ]
    }
   ],
   "source": [
    "num = int(input(\"enter any number:\"))"
   ]
  },
  {
   "cell_type": "code",
   "execution_count": 58,
   "id": "348ba807-c9d1-40da-94af-1a2f42b632a3",
   "metadata": {},
   "outputs": [
    {
     "name": "stdout",
     "output_type": "stream",
     "text": [
      "its negative\n"
     ]
    }
   ],
   "source": [
    "if num>=0:\n",
    "    print(\"Its positive\")\n",
    "else:\n",
    "    print(\"its negative\")"
   ]
  },
  {
   "cell_type": "code",
   "execution_count": null,
   "id": "40876252-e4a4-4b96-86af-b547939a042b",
   "metadata": {},
   "outputs": [],
   "source": []
  },
  {
   "cell_type": "code",
   "execution_count": 63,
   "id": "1e37b9d0-ed85-403b-a8d3-8960b7bb7339",
   "metadata": {},
   "outputs": [
    {
     "name": "stdin",
     "output_type": "stream",
     "text": [
      "enter any number: -7\n"
     ]
    }
   ],
   "source": [
    "num = int(input(\"enter any number:\"))"
   ]
  },
  {
   "cell_type": "code",
   "execution_count": 64,
   "id": "d72040fd-1378-4df3-9b4c-09d9af08b296",
   "metadata": {},
   "outputs": [
    {
     "name": "stdout",
     "output_type": "stream",
     "text": [
      "its negative\n"
     ]
    }
   ],
   "source": [
    "if (num>0):\n",
    "    print(\"Its positive\")\n",
    "elif (num==0):\n",
    "    print(\"its zero\")\n",
    "else:\n",
    "    print(\"its negative\")"
   ]
  },
  {
   "cell_type": "code",
   "execution_count": null,
   "id": "1d81b470-8c4b-4c52-a561-704016cc7f18",
   "metadata": {},
   "outputs": [],
   "source": []
  },
  {
   "cell_type": "code",
   "execution_count": null,
   "id": "f40fa22c-527e-4f09-9442-17f53ea561a0",
   "metadata": {},
   "outputs": [],
   "source": []
  },
  {
   "cell_type": "code",
   "execution_count": null,
   "id": "c0c5213d-3a90-42e1-a2bd-3d8a09082328",
   "metadata": {},
   "outputs": [],
   "source": []
  },
  {
   "cell_type": "code",
   "execution_count": 75,
   "id": "8524b492-526c-45ed-b133-9f34fe5e3b9f",
   "metadata": {},
   "outputs": [],
   "source": [
    "#marks = int(input(\"Enter your marks:\"))"
   ]
  },
  {
   "cell_type": "code",
   "execution_count": null,
   "id": "abc28ef6-e00a-41c5-a8c2-41fdc19fe383",
   "metadata": {},
   "outputs": [],
   "source": []
  },
  {
   "cell_type": "code",
   "execution_count": 83,
   "id": "d37c151f-3967-451e-bddb-f2bc9281322a",
   "metadata": {},
   "outputs": [
    {
     "name": "stdin",
     "output_type": "stream",
     "text": [
      "Enter your mark =  98\n"
     ]
    }
   ],
   "source": [
    "marks = int(input(\"Enter your mark = \"))"
   ]
  },
  {
   "cell_type": "code",
   "execution_count": 84,
   "id": "9a8a2dfb-dbb9-40fc-bd84-5bcc2617d303",
   "metadata": {},
   "outputs": [
    {
     "data": {
      "text/plain": [
       "98"
      ]
     },
     "execution_count": 84,
     "metadata": {},
     "output_type": "execute_result"
    }
   ],
   "source": [
    "marks"
   ]
  },
  {
   "cell_type": "code",
   "execution_count": 85,
   "id": "546cd03c-1ecf-4193-a016-446c2762eaf7",
   "metadata": {},
   "outputs": [
    {
     "name": "stdout",
     "output_type": "stream",
     "text": [
      "grade -A\n"
     ]
    }
   ],
   "source": [
    "# elif ladder\n",
    "if 100>=marks>=90:\n",
    "    print(\"grade -A\")\n",
    "elif marks>=80:\n",
    "    print(\"grade-B\")\n",
    "elif marks>=70:\n",
    "    print(\"Grade-C\")\n",
    "elif marks>=60:\n",
    "    print(\"Grade-D\")\n",
    "else:\n",
    "    print(\"grade-F\")"
   ]
  },
  {
   "cell_type": "code",
   "execution_count": null,
   "id": "b98d30f4-a684-4a6c-a14f-0aff221bf46c",
   "metadata": {},
   "outputs": [],
   "source": []
  },
  {
   "cell_type": "code",
   "execution_count": 102,
   "id": "77ef03d0-28fd-4dc7-b4c1-aa19bc5a0a22",
   "metadata": {},
   "outputs": [
    {
     "name": "stdin",
     "output_type": "stream",
     "text": [
      "Enter your spend: 2500\n"
     ]
    }
   ],
   "source": [
    "spend = float(input(\"Enter your spend:\"))"
   ]
  },
  {
   "cell_type": "code",
   "execution_count": 103,
   "id": "d8dcccf3-d955-4dd2-b974-f8cca795f6f1",
   "metadata": {},
   "outputs": [],
   "source": [
    "# if ladder\n",
    "if spend == 5000:\n",
    "    print(\"You are eligible for discount of 10 %\")\n",
    "if spend == 4000:\n",
    "    print(\"You are eligible for discount of 5 %\")\n",
    "if spend == 3000:\n",
    "    print(\"You are eligible for Voucher\")\n",
    "if spend == 2000:\n",
    "    print(\"You are eligible for Movie ticket\")\n",
    "if spend == 1000:\n",
    "    print(\"You are eligible for Vip customer\")"
   ]
  },
  {
   "cell_type": "code",
   "execution_count": null,
   "id": "1ac132bf-7170-475a-8765-1de551228799",
   "metadata": {},
   "outputs": [],
   "source": []
  },
  {
   "cell_type": "code",
   "execution_count": null,
   "id": "bbc09956-ee38-4890-aa2a-5f9efb98b580",
   "metadata": {},
   "outputs": [],
   "source": []
  },
  {
   "cell_type": "code",
   "execution_count": null,
   "id": "85ccd791-024e-44ff-9e46-2b1ac69c1c6a",
   "metadata": {},
   "outputs": [],
   "source": []
  },
  {
   "cell_type": "code",
   "execution_count": null,
   "id": "313c64de-ebdf-47a1-9e07-57b432aead1b",
   "metadata": {},
   "outputs": [],
   "source": []
  },
  {
   "cell_type": "code",
   "execution_count": null,
   "id": "fbc97c5a-ff39-4703-bab3-e47ac0064571",
   "metadata": {},
   "outputs": [],
   "source": [
    "# if ladder\n",
    "if spend == 5000:\n",
    "    print(\"You are eligible for discount of 10 %\")\n",
    "if spend == 4000:\n",
    "    print(\"You are eligible for discount of 5 %\")\n",
    "if spend == 3000:\n",
    "    print(\"You are eligible for Voucher\")\n",
    "if spend == 2000:\n",
    "    print(\"You are eligible for Movie ticket\")\n",
    "if spend == 1000:\n",
    "    print(\"You are eligible for Vip customer\")\n",
    "# else:\n",
    "#     print(\"no discount\")\n",
    "# if spend %2 == 0:\n",
    "#     print(\"You are doing even spend\")\n",
    "# else:\n",
    "#     print(\"Odd spend\")\n"
   ]
  },
  {
   "cell_type": "code",
   "execution_count": null,
   "id": "686c044c-f5df-467e-b015-542fbff8d4a3",
   "metadata": {},
   "outputs": [],
   "source": []
  },
  {
   "cell_type": "code",
   "execution_count": null,
   "id": "8f6f2919-53ef-4c9c-9cf7-bc4ca45cde6a",
   "metadata": {},
   "outputs": [],
   "source": [
    "marks = int(input(\"enter your marks:\"))"
   ]
  },
  {
   "cell_type": "code",
   "execution_count": null,
   "id": "60f56d83-f381-45e4-8cdf-614c4ab19f39",
   "metadata": {},
   "outputs": [],
   "source": [
    "# if ladder\n",
    "\n",
    "if marks == 90:\n",
    "    print(\"grade-A\")\n",
    "if marks == 80:\n",
    "    print(\"grade-B\")\n",
    "if marks == 70:\n",
    "    print(\"grade-C\")\n",
    "if marks == 60:\n",
    "    print(\"Grade-D\")\n",
    "\n",
    "if marks%2 == 0:\n",
    "    print(\"You have got even marks \")\n",
    "else:\n",
    "    print(\"Odd marks\")"
   ]
  },
  {
   "cell_type": "code",
   "execution_count": null,
   "id": "454b8aa3-3280-4585-bd79-aa992bcd50d6",
   "metadata": {},
   "outputs": [],
   "source": []
  },
  {
   "cell_type": "code",
   "execution_count": null,
   "id": "34d0b15c-1fc3-432a-a1eb-a48e7ac1652f",
   "metadata": {},
   "outputs": [],
   "source": [
    "marks = int(input(\"enter your marks:\"))"
   ]
  },
  {
   "cell_type": "code",
   "execution_count": null,
   "id": "a9c17052-426f-41a9-8057-bc6578f4a95e",
   "metadata": {},
   "outputs": [],
   "source": [
    "if marks>=90:\n",
    "    print(\"garde-A\")\n",
    "elif (marks>=80):\n",
    "    print(\"Grade-B\")\n",
    "elif marks>=70:\n",
    "    print(\"Grade-C\")\n",
    "elif marks>=60:\n",
    "    print(\"Grade-D\")\n",
    "else:\n",
    "    print(\"Grade-F\")"
   ]
  },
  {
   "cell_type": "code",
   "execution_count": null,
   "id": "6b1d8989-1c02-404c-ae59-4279b27f0227",
   "metadata": {},
   "outputs": [],
   "source": [
    "# Question : take three numbers as inputs and find out the largest among them"
   ]
  },
  {
   "cell_type": "code",
   "execution_count": 17,
   "id": "6d3897df-8bf9-4072-9b60-01b717582455",
   "metadata": {},
   "outputs": [
    {
     "name": "stdin",
     "output_type": "stream",
     "text": [
      "Enter your first number: 10\n",
      "Enter your second number: 20\n",
      "Enter your third number: 30\n"
     ]
    }
   ],
   "source": [
    "a = int(input(\"Enter your first number:\"))\n",
    "b = int(input(\"Enter your second number:\"))\n",
    "c = int(input(\"Enter your third number:\"))"
   ]
  },
  {
   "cell_type": "code",
   "execution_count": 18,
   "id": "fde27adb-3d54-4855-b6d3-8357ae190115",
   "metadata": {},
   "outputs": [
    {
     "name": "stdout",
     "output_type": "stream",
     "text": [
      "10 20 30\n"
     ]
    }
   ],
   "source": [
    "print(a,b,c)"
   ]
  },
  {
   "cell_type": "code",
   "execution_count": 19,
   "id": "2cb4e040-b343-4851-b1e8-51f9c40b4e84",
   "metadata": {},
   "outputs": [
    {
     "name": "stdout",
     "output_type": "stream",
     "text": [
      "c - 30 is largest\n"
     ]
    }
   ],
   "source": [
    "if (a>b) and (a>c):\n",
    "    print(f\"a - {a} is largest\")\n",
    "elif (b>a) and (b>c):\n",
    "    print(f\"b - {b} is largest\")\n",
    "else:\n",
    "    print(f\"c - {c} is largest\")"
   ]
  },
  {
   "cell_type": "code",
   "execution_count": 21,
   "id": "689df8ac-af73-4626-826a-196a14ba0e37",
   "metadata": {},
   "outputs": [
    {
     "name": "stdin",
     "output_type": "stream",
     "text": [
      "Enter your first number: 100\n",
      "Enter your second number: 200\n",
      "Enter your third number: 500\n"
     ]
    }
   ],
   "source": [
    "a = int(input(\"Enter your first number:\"))\n",
    "b = int(input(\"Enter your second number:\"))\n",
    "c = int(input(\"Enter your third number:\"))"
   ]
  },
  {
   "cell_type": "code",
   "execution_count": 22,
   "id": "1dd14ade-c363-40f2-89bb-cc236c6bdac5",
   "metadata": {},
   "outputs": [],
   "source": [
    "if (a>b) and (a>c):\n",
    "    maximum = a\n",
    "elif (b>a) and (b>c):\n",
    "    maximum = b\n",
    "else:\n",
    "    maximum = c"
   ]
  },
  {
   "cell_type": "code",
   "execution_count": 23,
   "id": "19c93b5c-a320-4920-9a00-5e50d0069235",
   "metadata": {},
   "outputs": [
    {
     "name": "stdout",
     "output_type": "stream",
     "text": [
      "largest number is 500\n"
     ]
    }
   ],
   "source": [
    "print(f\"largest number is {maximum}\")"
   ]
  },
  {
   "cell_type": "code",
   "execution_count": 24,
   "id": "af826c90-554f-441c-aab3-b5bc9f9b092a",
   "metadata": {},
   "outputs": [
    {
     "data": {
      "text/plain": [
       "500"
      ]
     },
     "execution_count": 24,
     "metadata": {},
     "output_type": "execute_result"
    }
   ],
   "source": [
    "maximum"
   ]
  },
  {
   "cell_type": "code",
   "execution_count": 25,
   "id": "b566ab3b-3289-473b-a9a1-913cf129647d",
   "metadata": {},
   "outputs": [
    {
     "data": {
      "text/plain": [
       "500"
      ]
     },
     "execution_count": 25,
     "metadata": {},
     "output_type": "execute_result"
    }
   ],
   "source": [
    "maximum"
   ]
  },
  {
   "cell_type": "code",
   "execution_count": null,
   "id": "01d47eac-ffcf-4a66-b6cd-6e11df1d88ee",
   "metadata": {},
   "outputs": [],
   "source": []
  },
  {
   "cell_type": "code",
   "execution_count": 26,
   "id": "01c297a1-ad1c-423b-929d-996a594c3aac",
   "metadata": {},
   "outputs": [],
   "source": [
    "d = 600"
   ]
  },
  {
   "cell_type": "code",
   "execution_count": 27,
   "id": "4374b3c6-d14d-4b83-9ecc-8b976817ff62",
   "metadata": {},
   "outputs": [
    {
     "data": {
      "text/plain": [
       "False"
      ]
     },
     "execution_count": 27,
     "metadata": {},
     "output_type": "execute_result"
    }
   ],
   "source": [
    "maximum>d"
   ]
  },
  {
   "cell_type": "code",
   "execution_count": null,
   "id": "d5fc10dc-a9f7-4456-8f11-4e0be5fa12b9",
   "metadata": {},
   "outputs": [],
   "source": []
  },
  {
   "cell_type": "code",
   "execution_count": null,
   "id": "470e9947-9bfc-4ebd-a452-aa2cf5067899",
   "metadata": {},
   "outputs": [],
   "source": []
  },
  {
   "cell_type": "code",
   "execution_count": null,
   "id": "1de14e61-4010-4e49-ab56-b97ff14e598c",
   "metadata": {},
   "outputs": [],
   "source": [
    "# Question 3: Leap Year Checker \n",
    "# Write a program that checks if a given year is a leap year. \n",
    "# A leap year is either divisible by 4 but not by 100, or divisible by 400."
   ]
  },
  {
   "cell_type": "code",
   "execution_count": null,
   "id": "0cab4f26-bcc7-46b6-a4d7-4ffd76061e53",
   "metadata": {},
   "outputs": [],
   "source": [
    "year = int(input(\"Enter any year:\"))"
   ]
  },
  {
   "cell_type": "code",
   "execution_count": null,
   "id": "82076a36-6e3f-4ca4-ada2-9090fa59e0ed",
   "metadata": {},
   "outputs": [],
   "source": []
  },
  {
   "cell_type": "code",
   "execution_count": null,
   "id": "be48ff39-1d6f-4b2e-af51-431835910384",
   "metadata": {},
   "outputs": [],
   "source": [
    "if (year%4==0) and (year%100!=0) or (year % 400 == 0):\n",
    "    print(f\"{year} is leap year\")\n",
    "else:\n",
    "    print(f\"{year} not a leap year\")"
   ]
  },
  {
   "cell_type": "code",
   "execution_count": null,
   "id": "5f363d20-eedc-42ed-9ba6-7ccbf54a38ab",
   "metadata": {},
   "outputs": [],
   "source": []
  },
  {
   "cell_type": "code",
   "execution_count": null,
   "id": "3489bca6-5635-42c6-b421-69f5731aeb3c",
   "metadata": {},
   "outputs": [],
   "source": []
  },
  {
   "cell_type": "code",
   "execution_count": null,
   "id": "18585217-ef5d-4a8f-a3c9-9058f81ae714",
   "metadata": {},
   "outputs": [],
   "source": [
    "# elif ladder\n",
    "if samount>=15000:\n",
    "    print(\"You are eligible for a 10%  discount\")\n",
    "elif (samount>=10000 and samount<15000):\n",
    "    print(\"You are eligible for a 5% discount\")\n",
    "elif (samount>=5000 and samount<10000):\n",
    "    print(\"You are eligible for a voucher\")\n",
    "elif (samount>=1000 and samount<5000):\n",
    "    print(\"You are eligible for a movie tickets\")\n",
    "elif (samount>=100 and samount<1000):\n",
    "    print(\"You are a VIP customer\")\n",
    "else:\n",
    "    print(\"No rewards\")"
   ]
  },
  {
   "cell_type": "code",
   "execution_count": null,
   "id": "40cec60d-da7a-45c1-81f2-bcf70b66e710",
   "metadata": {},
   "outputs": [],
   "source": []
  },
  {
   "cell_type": "code",
   "execution_count": 29,
   "id": "cc16b80e-a579-48a0-91e0-1def1bf6d2eb",
   "metadata": {},
   "outputs": [],
   "source": [
    "# Nesting : whenever we write if, elif, else inside another if, elif, else that is known as nesting"
   ]
  },
  {
   "cell_type": "code",
   "execution_count": 36,
   "id": "593e1de8-b57b-4b19-88d1-cdd5a7675622",
   "metadata": {},
   "outputs": [
    {
     "name": "stdin",
     "output_type": "stream",
     "text": [
      "Enter any number: 0\n"
     ]
    }
   ],
   "source": [
    "num = int(input(\"Enter any number:\"))"
   ]
  },
  {
   "cell_type": "code",
   "execution_count": 37,
   "id": "3b3c5e21-a2a3-4df2-8d48-49fd84dc6204",
   "metadata": {},
   "outputs": [
    {
     "name": "stdout",
     "output_type": "stream",
     "text": [
      "its zero\n"
     ]
    }
   ],
   "source": [
    "if num>=0:\n",
    "    if num == 0:\n",
    "        print(\"its zero\")\n",
    "    else:\n",
    "        print(\"its positive\")\n",
    "else:\n",
    "    print(\"its negative\")"
   ]
  },
  {
   "cell_type": "code",
   "execution_count": null,
   "id": "078413c4-5661-4b5a-b102-fac342671983",
   "metadata": {},
   "outputs": [],
   "source": []
  },
  {
   "cell_type": "code",
   "execution_count": null,
   "id": "8eb77056-ebc9-49f0-bd73-a39d9349f91c",
   "metadata": {},
   "outputs": [],
   "source": []
  },
  {
   "cell_type": "code",
   "execution_count": 44,
   "id": "d92c0d0d-aa7a-4b36-b760-cefef17715a6",
   "metadata": {},
   "outputs": [
    {
     "name": "stdin",
     "output_type": "stream",
     "text": [
      "enter any number: 25\n"
     ]
    }
   ],
   "source": [
    "number = int(input(\"enter any number:\"))"
   ]
  },
  {
   "cell_type": "code",
   "execution_count": 45,
   "id": "708f9cb2-bcd6-47bc-b4d5-91858f5f8dd5",
   "metadata": {},
   "outputs": [],
   "source": [
    "if number>=0:\n",
    "    if number==0:\n",
    "        print(\"its zero\")\n",
    "    if number == 10:\n",
    "        print(\"its ten\")\n",
    "    if number == 20:\n",
    "        print(\"its twenty\")\n",
    "    if number == 30:\n",
    "        print(\"its thirty\")\n",
    "else:\n",
    "    print(\"Its negative\")"
   ]
  },
  {
   "cell_type": "code",
   "execution_count": null,
   "id": "a3562350-cafd-4444-b3d7-4e9c6fa00995",
   "metadata": {},
   "outputs": [],
   "source": []
  },
  {
   "cell_type": "code",
   "execution_count": 56,
   "id": "5159d4c1-6b70-4888-9e46-5a1fecd9c34d",
   "metadata": {},
   "outputs": [
    {
     "name": "stdin",
     "output_type": "stream",
     "text": [
      "enter any number: 9\n"
     ]
    }
   ],
   "source": [
    "number = int(input(\"enter any number:\"))"
   ]
  },
  {
   "cell_type": "code",
   "execution_count": 57,
   "id": "16728c8a-0f24-4e1d-9091-bc253d92aaa8",
   "metadata": {},
   "outputs": [
    {
     "name": "stdout",
     "output_type": "stream",
     "text": [
      "Another number\n"
     ]
    }
   ],
   "source": [
    "if number>=0:\n",
    "    if number==0:\n",
    "        print(\"its zero\")\n",
    "    if number == 10:\n",
    "        print(\"its ten\")\n",
    "    if number == 20:\n",
    "        print(\"its twenty\")\n",
    "    if number == 30:\n",
    "        print(\"its thirty\")\n",
    "    else:\n",
    "        print(\"Another number\")\n",
    "else:\n",
    "    print(\"Its negative\")"
   ]
  },
  {
   "cell_type": "code",
   "execution_count": 74,
   "id": "a87c9add-714d-4632-bc20-64702aa1d55b",
   "metadata": {},
   "outputs": [
    {
     "name": "stdin",
     "output_type": "stream",
     "text": [
      "enter any number: 10\n"
     ]
    }
   ],
   "source": [
    "number = int(input(\"enter any number:\"))"
   ]
  },
  {
   "cell_type": "code",
   "execution_count": 72,
   "id": "e3e69a43-4660-42c0-a697-f57b4035a97b",
   "metadata": {},
   "outputs": [
    {
     "name": "stdout",
     "output_type": "stream",
     "text": [
      "its another number\n"
     ]
    }
   ],
   "source": [
    "if number>=0:\n",
    "    if number==0:\n",
    "        print(\"its zero\")\n",
    "    if number == 10:\n",
    "        print(\"its ten\")\n",
    "    if number == 20:\n",
    "        print(\"its twenty\")\n",
    "    if number == 30:\n",
    "        print(\"its thirty\")\n",
    "    elif number not in(10, 20, 30, 0):\n",
    "        print(\"its another number\")\n",
    "    if number % 2 ==0:\n",
    "        print(\"its even\")\n",
    "    else:\n",
    "        print(\"its odd number\")\n",
    "else:\n",
    "    print(\"Its negative\")"
   ]
  },
  {
   "cell_type": "code",
   "execution_count": null,
   "id": "879e4ced-487f-45f6-bd91-e359b06a1563",
   "metadata": {},
   "outputs": [],
   "source": []
  },
  {
   "cell_type": "code",
   "execution_count": null,
   "id": "93d66a95-abab-4da9-be37-50385e9d57d8",
   "metadata": {},
   "outputs": [],
   "source": []
  },
  {
   "cell_type": "code",
   "execution_count": null,
   "id": "3811e964-993d-417f-b5b8-b9dc7fa1122d",
   "metadata": {},
   "outputs": [],
   "source": [
    "number = int(input(\"enter any number:\"))"
   ]
  },
  {
   "cell_type": "code",
   "execution_count": null,
   "id": "909e633f-1bb7-43fa-ad05-a548b45f6234",
   "metadata": {},
   "outputs": [],
   "source": [
    "if number>=0:\n",
    "    if number==0:\n",
    "        print(\"its zero\")\n",
    "    if number == 10:\n",
    "        print(\"its ten\")\n",
    "    if number == 20:\n",
    "        print(\"its twenty\")\n",
    "    if number == 30:\n",
    "        print(\"its thirty\")\n",
    "    else:\n",
    "        print(\"its positive\")\n",
    "else:\n",
    "    print(\"Its negative\")"
   ]
  },
  {
   "cell_type": "code",
   "execution_count": null,
   "id": "21dcaf69-2c96-4a0c-9893-090b360ab117",
   "metadata": {},
   "outputs": [],
   "source": []
  },
  {
   "cell_type": "code",
   "execution_count": null,
   "id": "1fe4e3d0-74bf-4458-98a3-478ed821a359",
   "metadata": {},
   "outputs": [],
   "source": [
    "num = int(input(\"enter any number:\"))"
   ]
  },
  {
   "cell_type": "code",
   "execution_count": null,
   "id": "80df56d3-5a2f-481d-a079-ff50b4a543d8",
   "metadata": {},
   "outputs": [],
   "source": [
    "if num>0:\n",
    "    if num>10:\n",
    "        if num>20:\n",
    "            if num>30:\n",
    "                if num>40:\n",
    "                    if num>50:\n",
    "                        if num%2==0:\n",
    "                            print(\"its even\")\n",
    "                        else:\n",
    "                            print(\"its odd\")\n",
    "                    elif num == 50:\n",
    "                        print(\"its fifty\")\n",
    "                    else:\n",
    "                        print(\"its lesser than 50\")\n",
    "                elif num == 40:\n",
    "                    print(\"its forty\")\n",
    "                else:\n",
    "                    print(\"its lesser than 40\")\n",
    "            elif num == 30:\n",
    "                print(\"its thirty\")\n",
    "            else:\n",
    "                print(\"its lesser than 30\")\n",
    "        elif num == 20:\n",
    "            print(\"its twenty\")\n",
    "        else:\n",
    "            print(\"its lesser than 20\")\n",
    "    elif num == 10:\n",
    "        print(\"its ten\")\n",
    "    else:\n",
    "        print(\"its lesser than 10\")\n",
    "elif (num == 0):\n",
    "    print(\"its zero\")\n",
    "else:\n",
    "    print(\"its negative\")"
   ]
  },
  {
   "cell_type": "code",
   "execution_count": null,
   "id": "da4cb354-6702-4066-9a92-26ac48fcb7a6",
   "metadata": {},
   "outputs": [],
   "source": []
  },
  {
   "cell_type": "code",
   "execution_count": null,
   "id": "ec58b59b-f48a-477b-a47d-87da796a1df7",
   "metadata": {},
   "outputs": [],
   "source": []
  },
  {
   "cell_type": "code",
   "execution_count": null,
   "id": "19ceb4bb-1fb6-41c4-89e0-8bea3a976290",
   "metadata": {},
   "outputs": [],
   "source": []
  },
  {
   "cell_type": "code",
   "execution_count": null,
   "id": "d579105b-06e1-457b-a3bb-4931a0803e68",
   "metadata": {},
   "outputs": [],
   "source": []
  },
  {
   "cell_type": "code",
   "execution_count": null,
   "id": "84a7ed08-e761-4c3a-a6b0-c5f451caf831",
   "metadata": {},
   "outputs": [],
   "source": []
  },
  {
   "cell_type": "code",
   "execution_count": null,
   "id": "c3b19806-f3f4-4248-8cc8-85a1b8e54cd9",
   "metadata": {},
   "outputs": [],
   "source": []
  },
  {
   "cell_type": "code",
   "execution_count": null,
   "id": "873a4e74-d60d-4264-904e-3405270ed601",
   "metadata": {},
   "outputs": [],
   "source": [
    "# Question:\n",
    "# Write a Python program to check whether a number is divisible by both 5 and 7."
   ]
  },
  {
   "cell_type": "code",
   "execution_count": null,
   "id": "c57f77b2-668b-453f-ad72-859d24c98c42",
   "metadata": {},
   "outputs": [],
   "source": [
    "number = int(input(\"enter any number:\"))"
   ]
  },
  {
   "cell_type": "code",
   "execution_count": null,
   "id": "658fefdc-d103-48a1-b8f7-204285eb6b8c",
   "metadata": {},
   "outputs": [],
   "source": [
    "if (number%5==0) and (number%7==0):\n",
    "    print(\"Both\")\n",
    "elif number%5==0:\n",
    "    print(\"only five\")\n",
    "elif number%7==0:\n",
    "    print(\"only seven\")\n",
    "else:\n",
    "    print(\"None\")"
   ]
  },
  {
   "cell_type": "code",
   "execution_count": null,
   "id": "9b009157-2cd5-4bc5-b038-dc7b66198713",
   "metadata": {},
   "outputs": [],
   "source": []
  },
  {
   "cell_type": "code",
   "execution_count": null,
   "id": "6296c7cf-e9a7-436d-bcf5-81eeffb8e98f",
   "metadata": {},
   "outputs": [],
   "source": [
    "#Check Age Category\n",
    "\n",
    "#Question:\n",
    "#Write a program that takes age as input and categorizes the person as Child (0-12), Teen (13-19), Adult (20-59), or Senior (60+)."
   ]
  },
  {
   "cell_type": "code",
   "execution_count": null,
   "id": "108858c4-9825-49bc-aba9-1d0ab1c0980e",
   "metadata": {},
   "outputs": [],
   "source": [
    "age = int(input(\"enter Your age:\"))"
   ]
  },
  {
   "cell_type": "code",
   "execution_count": null,
   "id": "5a1d1c31-1d95-4a6b-8c15-dae0baf2ec23",
   "metadata": {},
   "outputs": [],
   "source": [
    "if 0<=age<=12:\n",
    "    print(\"Child\")\n",
    "elif 13<=age<=19:\n",
    "    print(\"teen\")\n",
    "elif (20<=age<=59):\n",
    "    print(\"Adult\")\n",
    "else:\n",
    "    print(\"Senior\")"
   ]
  },
  {
   "cell_type": "code",
   "execution_count": null,
   "id": "95d56a57-a2bd-484a-b35b-30c74cdf4ca8",
   "metadata": {},
   "outputs": [],
   "source": []
  },
  {
   "cell_type": "code",
   "execution_count": null,
   "id": "f86e4e59-ce50-4a89-9eda-b3c31a9ddf6f",
   "metadata": {},
   "outputs": [],
   "source": []
  },
  {
   "cell_type": "code",
   "execution_count": null,
   "id": "eac5f45b-f53d-422c-b6e2-3fb59432ea2c",
   "metadata": {},
   "outputs": [],
   "source": [
    "#Taxi Fare Based on Distance\n",
    "\n",
    "#Question:\n",
    "#Write a program that calculates the taxi fare based on the following conditions:\n",
    "\n",
    "# First 5 km: 100\n",
    "# Next 10 km: ₹8 per km\n",
    "# Beyond 15 km: ₹5 per km"
   ]
  },
  {
   "cell_type": "code",
   "execution_count": null,
   "id": "f5930c7c-ea5e-46d3-9685-f56ab4348ee7",
   "metadata": {},
   "outputs": [],
   "source": [
    "distance = int(input(\"enter Your distance:\"))"
   ]
  },
  {
   "cell_type": "code",
   "execution_count": null,
   "id": "2db9d18d-c046-4d3e-aef3-6b23a3339d6c",
   "metadata": {},
   "outputs": [],
   "source": [
    "if distance<=5:\n",
    "    fare = 100\n",
    "elif 5<distance<=15:\n",
    "    fare = (distance-5)*8 + 100\n",
    "else:\n",
    "    fare = 100 + 10*8 + (distance-15)*5"
   ]
  },
  {
   "cell_type": "code",
   "execution_count": null,
   "id": "9395add0-aeff-470b-aeb3-64cff8fd4cac",
   "metadata": {},
   "outputs": [],
   "source": [
    "print(f\"You have to pay {fare} for {distance} km\")"
   ]
  },
  {
   "cell_type": "code",
   "execution_count": null,
   "id": "8b04a6bd-33b2-4020-8943-b17f8979edfb",
   "metadata": {},
   "outputs": [],
   "source": [
    "#Taxi Fare Based on Distance\n",
    "\n",
    "#Question:\n",
    "#Write a program that calculates the taxi fare based on the following conditions:\n",
    "\n",
    "#First 5 km: 10 per km\n",
    "#Next 10 km: ₹8 per km\n",
    "#Beyond 15 km: ₹5 per km"
   ]
  },
  {
   "cell_type": "code",
   "execution_count": null,
   "id": "587c4d8e-3078-43ac-9b63-06531d65d473",
   "metadata": {},
   "outputs": [],
   "source": [
    "distance = int(input(\"enter Your distance:\"))\n",
    "if distance<=5:\n",
    "    fare = distance*10\n",
    "elif distance<=15:\n",
    "    fare = (distance-5)*8 + 5*10\n",
    "else:\n",
    "    fare = 5*10 + 10*8 + (distance-15)*5\n",
    "\n",
    "print(f\"You have to pay {fare} for {distance} km\")"
   ]
  },
  {
   "cell_type": "code",
   "execution_count": null,
   "id": "2ac96fe7-1c8c-4b83-854f-a736d950b4af",
   "metadata": {},
   "outputs": [],
   "source": [
    "#Metro Fare Based on Distance\n",
    "\n",
    "#Question:\n",
    "#Write a program that calculates the metro fare based on the following:\n",
    "\n",
    "#Up to 10 km: ₹20\n",
    "#11-20 km: ₹30\n",
    "#21-30 km: ₹40\n",
    "#Above 30 km: ₹50"
   ]
  },
  {
   "cell_type": "code",
   "execution_count": null,
   "id": "002e3d06-3ee0-4e67-a7e9-54925804d060",
   "metadata": {},
   "outputs": [],
   "source": [
    "distance = int(input(\"enter Your distance:\"))\n",
    "\n",
    "if distance<=10:\n",
    "    fare = 10\n",
    "elif distance<=20:\n",
    "    fare = 30\n",
    "elif distance<=30:\n",
    "    fare = 40\n",
    "else:\n",
    "    fare = 50\n",
    "\n",
    "print(f\"You have to pay {fare} for {distance} km\")"
   ]
  },
  {
   "cell_type": "code",
   "execution_count": null,
   "id": "f604cb43-238c-4ea1-b245-3c8c789247c7",
   "metadata": {},
   "outputs": [],
   "source": []
  },
  {
   "cell_type": "code",
   "execution_count": null,
   "id": "833cb322-ae33-4cea-b13c-00321eee98a9",
   "metadata": {},
   "outputs": [],
   "source": [
    "# Loops"
   ]
  },
  {
   "cell_type": "code",
   "execution_count": 2,
   "id": "0b62ea9c-56bd-4870-baaf-385bf5024651",
   "metadata": {},
   "outputs": [
    {
     "data": {
      "text/plain": [
       "[1, 2, 3, 4, 5, 6, 7, 8, 9, 10, 11, 12, 13, 14, 15, 16, 17, 18, 19]"
      ]
     },
     "execution_count": 2,
     "metadata": {},
     "output_type": "execute_result"
    }
   ],
   "source": [
    "list(range(1, 20))"
   ]
  },
  {
   "cell_type": "code",
   "execution_count": 5,
   "id": "a401aca2-4f2c-41ae-a672-71af9eb2595c",
   "metadata": {},
   "outputs": [
    {
     "data": {
      "text/plain": [
       "[2, 3, 4, 5, 6, 7, 8, 9]"
      ]
     },
     "execution_count": 5,
     "metadata": {},
     "output_type": "execute_result"
    }
   ],
   "source": [
    "list(range(2, 10))"
   ]
  },
  {
   "cell_type": "code",
   "execution_count": 7,
   "id": "fc1dd037-0090-4fa3-b49a-e354123546e6",
   "metadata": {},
   "outputs": [
    {
     "data": {
      "text/plain": [
       "[1, 11, 21, 31, 41, 51, 61, 71, 81, 91]"
      ]
     },
     "execution_count": 7,
     "metadata": {},
     "output_type": "execute_result"
    }
   ],
   "source": [
    "list(range(1, 100,10 ))"
   ]
  },
  {
   "cell_type": "code",
   "execution_count": 10,
   "id": "94ca93c6-210a-4ba6-87c2-b7479dae025f",
   "metadata": {},
   "outputs": [
    {
     "data": {
      "text/plain": [
       "[2, 52, 102, 152, 202, 252, 302, 352, 402, 452]"
      ]
     },
     "execution_count": 10,
     "metadata": {},
     "output_type": "execute_result"
    }
   ],
   "source": [
    "list(range(2, 500, 50))"
   ]
  },
  {
   "cell_type": "code",
   "execution_count": null,
   "id": "433727fc-54c1-4861-8d93-fcf5a8bd9530",
   "metadata": {},
   "outputs": [],
   "source": []
  },
  {
   "cell_type": "code",
   "execution_count": 11,
   "id": "09b2bf66-ea5c-41ff-962f-aad9b887cd0e",
   "metadata": {},
   "outputs": [],
   "source": [
    "# loops:"
   ]
  },
  {
   "cell_type": "code",
   "execution_count": null,
   "id": "ead816c5-1fdc-457e-83ce-606a09c8cce0",
   "metadata": {},
   "outputs": [],
   "source": [
    "print(2)\n",
    "print(4)\n",
    "print(6)\n",
    "print(8)\n",
    "print(10)\n",
    "print(12)\n",
    "print(14)\n",
    "print(16)\n",
    "print(18)\n",
    "print(20)"
   ]
  },
  {
   "cell_type": "code",
   "execution_count": null,
   "id": "a11f983a-e95f-4bed-b7ba-43871cfcca5c",
   "metadata": {},
   "outputs": [],
   "source": [
    "# While Loop\n",
    "# for Loop"
   ]
  },
  {
   "cell_type": "code",
   "execution_count": 12,
   "id": "502967d6-df2f-43ae-afd7-00646eae3643",
   "metadata": {},
   "outputs": [
    {
     "ename": "SyntaxError",
     "evalue": "invalid syntax (812157031.py, line 2)",
     "output_type": "error",
     "traceback": [
      "\u001b[1;36m  Cell \u001b[1;32mIn[12], line 2\u001b[1;36m\u001b[0m\n\u001b[1;33m    syntax :\u001b[0m\n\u001b[1;37m             ^\u001b[0m\n\u001b[1;31mSyntaxError\u001b[0m\u001b[1;31m:\u001b[0m invalid syntax\n"
     ]
    }
   ],
   "source": [
    "# While Loop : \n",
    "syntax : \n",
    "\n",
    "1. Initilization\n",
    "while (2. stooping condition):\n",
    "    logic\n",
    "    3 .Updation\n",
    "    "
   ]
  },
  {
   "cell_type": "code",
   "execution_count": 17,
   "id": "9afc0699-bfd1-4aeb-9156-ca8952b2c7cc",
   "metadata": {},
   "outputs": [
    {
     "name": "stdout",
     "output_type": "stream",
     "text": [
      "1\n",
      "2\n",
      "3\n",
      "4\n",
      "5\n",
      "6\n",
      "7\n",
      "8\n",
      "9\n",
      "10\n"
     ]
    }
   ],
   "source": [
    "i = 1\n",
    "\n",
    "while (i<=10):\n",
    "    print(i)\n",
    "    i+=1  # i = i+1"
   ]
  },
  {
   "cell_type": "code",
   "execution_count": 18,
   "id": "0a6e4ee9-c3ca-4da9-b0aa-3b43d18237f6",
   "metadata": {},
   "outputs": [
    {
     "name": "stdout",
     "output_type": "stream",
     "text": [
      "2\n",
      "4\n",
      "6\n",
      "8\n",
      "10\n",
      "12\n",
      "14\n",
      "16\n",
      "18\n",
      "20\n",
      "All elemets are done\n"
     ]
    }
   ],
   "source": [
    "i = 1\n",
    "\n",
    "while (i<=20):\n",
    "    if i%2==0:\n",
    "        print(i)\n",
    "    i+=1  # i = i+1\n",
    "else:\n",
    "    print(\"All elemets are done\")"
   ]
  },
  {
   "cell_type": "code",
   "execution_count": 22,
   "id": "c5c68a90-d24a-4a47-a221-ad7de414a0c1",
   "metadata": {},
   "outputs": [
    {
     "name": "stdout",
     "output_type": "stream",
     "text": [
      "1\n",
      "3\n",
      "5\n",
      "7\n",
      "9\n",
      "All elemets are done\n"
     ]
    }
   ],
   "source": [
    "i = 1\n",
    "\n",
    "while (i<=10):\n",
    "    if i%2==1:\n",
    "        print(i)\n",
    "    i+=1  # i = i+1\n",
    "else:\n",
    "    print(\"All elemets are done\")"
   ]
  },
  {
   "cell_type": "code",
   "execution_count": null,
   "id": "36151116-3639-4c4d-9355-9ee92110a691",
   "metadata": {},
   "outputs": [],
   "source": []
  },
  {
   "cell_type": "code",
   "execution_count": null,
   "id": "baab6d0c-a6c5-4aeb-a031-1aa3cda822f7",
   "metadata": {},
   "outputs": [],
   "source": []
  },
  {
   "cell_type": "code",
   "execution_count": null,
   "id": "e2453f65-9530-4a16-b33b-2bf667b37cb9",
   "metadata": {},
   "outputs": [],
   "source": [
    "# While True (infinite loop)"
   ]
  },
  {
   "cell_type": "code",
   "execution_count": 37,
   "id": "dc19e729-1ae5-44dd-8ed9-f7455f090a05",
   "metadata": {},
   "outputs": [
    {
     "name": "stdin",
     "output_type": "stream",
     "text": [
      "enter any number which you want to sum upto: 1000\n"
     ]
    }
   ],
   "source": [
    "num = int(input(\"enter any number which you want to sum upto:\"))"
   ]
  },
  {
   "cell_type": "code",
   "execution_count": 38,
   "id": "9de90c77-89ce-40af-a2e0-84f8daca5220",
   "metadata": {},
   "outputs": [
    {
     "data": {
      "text/plain": [
       "1000"
      ]
     },
     "execution_count": 38,
     "metadata": {},
     "output_type": "execute_result"
    }
   ],
   "source": [
    "num"
   ]
  },
  {
   "cell_type": "code",
   "execution_count": 39,
   "id": "a68e8b58-da21-41fd-aea7-af2c2b33b211",
   "metadata": {},
   "outputs": [
    {
     "name": "stdout",
     "output_type": "stream",
     "text": [
      "500500\n"
     ]
    }
   ],
   "source": [
    "total = 0\n",
    "while True:\n",
    "    total+=num\n",
    "    num-=1\n",
    "\n",
    "    if num == 0:\n",
    "        break\n",
    "\n",
    "print(total) "
   ]
  },
  {
   "cell_type": "code",
   "execution_count": null,
   "id": "3a592c08-436d-4550-86f1-147839a3de6c",
   "metadata": {},
   "outputs": [],
   "source": []
  },
  {
   "cell_type": "code",
   "execution_count": 2,
   "id": "7731e8ac-a4b1-405e-ad82-4f8881c774d1",
   "metadata": {},
   "outputs": [],
   "source": [
    "# Question 1: Counting Odd Numbers Write a program that continuously takes input from the user until they enter a negative number.\n",
    "#The program should then print the count of all the odd numbers entered."
   ]
  },
  {
   "cell_type": "code",
   "execution_count": 8,
   "id": "7913b717-909e-433f-abe1-dafb911ee1e4",
   "metadata": {},
   "outputs": [
    {
     "name": "stdin",
     "output_type": "stream",
     "text": [
      "Enter your number: 5\n",
      "Enter your number: 4\n",
      "Enter your number: 6\n",
      "Enter your number: 1\n",
      "Enter your number: 2\n",
      "Enter your number: 3\n",
      "Enter your number: 7\n",
      "Enter your number: 8\n",
      "Enter your number: 9\n",
      "Enter your number: 4\n",
      "Enter your number: 5\n",
      "Enter your number: -2\n"
     ]
    }
   ],
   "source": [
    "count = 0\n",
    "while True:\n",
    "    num = int(input(\"Enter your number:\"))\n",
    "    if num<0:\n",
    "        break\n",
    "    else:\n",
    "        if num%2==1:\n",
    "            count+=1"
   ]
  },
  {
   "cell_type": "code",
   "execution_count": 9,
   "id": "35dbd365-ad1c-40f0-b270-f296bd2e149e",
   "metadata": {},
   "outputs": [
    {
     "name": "stdout",
     "output_type": "stream",
     "text": [
      "The count of all odd numbers are 6\n"
     ]
    }
   ],
   "source": [
    "print(f\"The count of all odd numbers are {count}\")"
   ]
  },
  {
   "cell_type": "code",
   "execution_count": null,
   "id": "d38ac6b4-d58f-4854-8115-f777c8050cc5",
   "metadata": {},
   "outputs": [],
   "source": []
  },
  {
   "cell_type": "code",
   "execution_count": 11,
   "id": "d5be8fc8-cace-4114-ad17-d0627b405e8a",
   "metadata": {},
   "outputs": [],
   "source": [
    "# For Loop"
   ]
  },
  {
   "cell_type": "code",
   "execution_count": 16,
   "id": "41a525cd-fbc0-4c46-9f4e-a9228f4aa82e",
   "metadata": {},
   "outputs": [
    {
     "data": {
      "text/plain": [
       "[1, 2, 3, 4, 5, 6, 7, 8, 9, 10]"
      ]
     },
     "execution_count": 16,
     "metadata": {},
     "output_type": "execute_result"
    }
   ],
   "source": [
    "list(range(1, 11))"
   ]
  },
  {
   "cell_type": "code",
   "execution_count": 13,
   "id": "428590e0-7dee-413a-b82f-287d84eada8f",
   "metadata": {},
   "outputs": [
    {
     "name": "stdout",
     "output_type": "stream",
     "text": [
      "1\n",
      "2\n",
      "3\n",
      "4\n",
      "5\n",
      "6\n",
      "7\n",
      "8\n",
      "9\n",
      "10\n"
     ]
    }
   ],
   "source": [
    "for i in range(1, 11):\n",
    "    print(i)"
   ]
  },
  {
   "cell_type": "code",
   "execution_count": 18,
   "id": "f8f69c95-68a6-4069-b187-90c31eb3f18f",
   "metadata": {},
   "outputs": [
    {
     "name": "stdout",
     "output_type": "stream",
     "text": [
      "1\n",
      "2\n",
      "3\n",
      "4\n",
      "5\n",
      "6\n",
      "7\n",
      "8\n",
      "9\n",
      "10\n"
     ]
    }
   ],
   "source": [
    "for i in [1, 2, 3, 4, 5, 6, 7, 8, 9, 10]:\n",
    "    print(i)"
   ]
  },
  {
   "cell_type": "code",
   "execution_count": 20,
   "id": "8588e5b7-f45a-42db-b33c-2a828169921b",
   "metadata": {},
   "outputs": [
    {
     "name": "stdout",
     "output_type": "stream",
     "text": [
      "2\n",
      "4\n",
      "6\n",
      "8\n",
      "10\n",
      "12\n",
      "14\n",
      "16\n",
      "18\n",
      "20\n"
     ]
    }
   ],
   "source": [
    "for i in range(1, 21):\n",
    "    if i%2==0:\n",
    "        print(i)"
   ]
  },
  {
   "cell_type": "code",
   "execution_count": 22,
   "id": "91772986-9f0b-4c10-b9e6-0d7bec8ec12f",
   "metadata": {},
   "outputs": [
    {
     "name": "stdout",
     "output_type": "stream",
     "text": [
      "1\n",
      "3\n",
      "5\n",
      "7\n",
      "9\n",
      "11\n",
      "13\n",
      "15\n",
      "17\n",
      "19\n",
      "All done\n"
     ]
    }
   ],
   "source": [
    "for i in range(1, 21):\n",
    "    if i%2==1:\n",
    "        print(i)\n",
    "else:\n",
    "    print(\"All done\")"
   ]
  },
  {
   "cell_type": "code",
   "execution_count": 25,
   "id": "b7421c8e-3caa-4478-8ce4-3e6ecdd63d07",
   "metadata": {},
   "outputs": [
    {
     "name": "stdout",
     "output_type": "stream",
     "text": [
      "1\n",
      "8\n",
      "9\n",
      "64\n",
      "25\n",
      "216\n",
      "49\n",
      "512\n",
      "81\n",
      "1000\n",
      "All done\n"
     ]
    }
   ],
   "source": [
    "for i in range(1, 11):\n",
    "    if i%2==1:\n",
    "        print(i**2)\n",
    "    else:\n",
    "        print(i**3)\n",
    "else:\n",
    "    print(\"All done\")"
   ]
  },
  {
   "cell_type": "code",
   "execution_count": null,
   "id": "4597b127-b547-49b2-a40e-0d43c8ff4b3d",
   "metadata": {},
   "outputs": [],
   "source": []
  },
  {
   "cell_type": "code",
   "execution_count": 28,
   "id": "94c181be-c2e8-4df0-9ae4-8fd1a07add48",
   "metadata": {},
   "outputs": [
    {
     "name": "stdout",
     "output_type": "stream",
     "text": [
      "2\n",
      "4\n",
      "6\n",
      "8\n",
      "10\n"
     ]
    }
   ],
   "source": [
    "for i in range(2, 11, 2):\n",
    "    print(i)"
   ]
  },
  {
   "cell_type": "code",
   "execution_count": null,
   "id": "de3a769c-2b5b-4698-b4bb-ddeaf9ef8091",
   "metadata": {},
   "outputs": [],
   "source": []
  },
  {
   "cell_type": "code",
   "execution_count": 40,
   "id": "bbb31901-4796-442d-9bfb-dd32902d4c77",
   "metadata": {},
   "outputs": [],
   "source": [
    "# break , continue and pass"
   ]
  },
  {
   "cell_type": "code",
   "execution_count": 32,
   "id": "d2dec062-f5ba-4864-9159-b78a75b94a90",
   "metadata": {},
   "outputs": [],
   "source": [
    "for i in range(1,21):\n",
    "    pass"
   ]
  },
  {
   "cell_type": "code",
   "execution_count": 34,
   "id": "91fd85c5-814e-4fd8-9639-369e3948da62",
   "metadata": {},
   "outputs": [],
   "source": [
    "if 4>5:\n",
    "    pass"
   ]
  },
  {
   "cell_type": "code",
   "execution_count": 38,
   "id": "07ee87ff-ce76-44d4-a369-ecbfa1e0fd44",
   "metadata": {},
   "outputs": [
    {
     "name": "stdout",
     "output_type": "stream",
     "text": [
      "1\n",
      "2\n",
      "3\n",
      "4\n"
     ]
    }
   ],
   "source": [
    "for i in range(1, 11):\n",
    "    if i==5:\n",
    "        break\n",
    "    print(i)\n",
    "else:\n",
    "    print(\"all done\")"
   ]
  },
  {
   "cell_type": "code",
   "execution_count": 39,
   "id": "ce330e76-0e7c-4f53-9c39-46c3b4fdbce8",
   "metadata": {},
   "outputs": [
    {
     "name": "stdout",
     "output_type": "stream",
     "text": [
      "1\n",
      "2\n",
      "3\n",
      "4\n",
      "6\n",
      "7\n",
      "8\n",
      "9\n",
      "10\n",
      "all done\n"
     ]
    }
   ],
   "source": [
    "for i in range(1, 11):\n",
    "    if i==5:\n",
    "        continue\n",
    "    print(i)\n",
    "else:\n",
    "    print(\"all done\")"
   ]
  },
  {
   "cell_type": "code",
   "execution_count": null,
   "id": "2ad3bbf5-b42f-4067-9fdb-6c3b0c8ccefe",
   "metadata": {},
   "outputs": [],
   "source": []
  },
  {
   "cell_type": "code",
   "execution_count": null,
   "id": "5abcf0e7-dc34-4590-8ea8-b19c51d4a799",
   "metadata": {},
   "outputs": [],
   "source": [
    "*\n",
    "**\n",
    "***\n",
    "****\n",
    "*****"
   ]
  },
  {
   "cell_type": "code",
   "execution_count": null,
   "id": "f96c89d2-063f-484c-8625-3a554165cc26",
   "metadata": {},
   "outputs": [],
   "source": []
  }
 ],
 "metadata": {
  "kernelspec": {
   "display_name": "Python 3 (ipykernel)",
   "language": "python",
   "name": "python3"
  },
  "language_info": {
   "codemirror_mode": {
    "name": "ipython",
    "version": 3
   },
   "file_extension": ".py",
   "mimetype": "text/x-python",
   "name": "python",
   "nbconvert_exporter": "python",
   "pygments_lexer": "ipython3",
   "version": "3.12.4"
  }
 },
 "nbformat": 4,
 "nbformat_minor": 5
}
